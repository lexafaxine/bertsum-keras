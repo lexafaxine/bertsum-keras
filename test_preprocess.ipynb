{
 "cells": [
  {
   "cell_type": "code",
   "execution_count": 1,
   "id": "searching-heart",
   "metadata": {},
   "outputs": [],
   "source": [
    "import bertsum_keras as bk"
   ]
  },
  {
   "cell_type": "code",
   "execution_count": 2,
   "id": "legendary-benjamin",
   "metadata": {},
   "outputs": [],
   "source": [
    "json_path = \"/home/laurence/BertSum-master/json_data\""
   ]
  },
  {
   "cell_type": "code",
   "execution_count": 3,
   "id": "atmospheric-witch",
   "metadata": {},
   "outputs": [
    {
     "name": "stdout",
     "output_type": "stream",
     "text": [
      "Preprocessing /home/laurence/BertSum-master/json_data\n",
      "preprocessing /home/laurence/BertSum-master/json_data/.train.0.json\n"
     ]
    }
   ],
   "source": [
    "examples = bk.create_train_examples(json_path, \"bert-base-uncased\", 5, 200, 100, 3, \"greedy\")"
   ]
  },
  {
   "cell_type": "code",
   "execution_count": 4,
   "id": "essential-paris",
   "metadata": {},
   "outputs": [
    {
     "name": "stderr",
     "output_type": "stream",
     "text": [
      "/home/laurence/BertSum-master/bertsum_keras.py:306: VisibleDeprecationWarning: Creating an ndarray from ragged nested sequences (which is a list-or-tuple of lists-or-tuples-or ndarrays with different lengths or shapes) is deprecated. If you meant to do this, you must specify 'dtype=object' when creating the ndarray\n",
      "  dataset_dict[key] = np.array(dataset_dict[key])\n"
     ]
    }
   ],
   "source": [
    "inputs = bk.create_inputs(examples, is_test=False)"
   ]
  },
  {
   "cell_type": "code",
   "execution_count": 5,
   "id": "opening-gentleman",
   "metadata": {},
   "outputs": [
    {
     "name": "stderr",
     "output_type": "stream",
     "text": [
      "Some layers from the model checkpoint at bert-base-uncased were not used when initializing TFBertModel: ['mlm___cls', 'nsp___cls']\n",
      "- This IS expected if you are initializing TFBertModel from the checkpoint of a model trained on another task or with another architecture (e.g. initializing a BertForSequenceClassification model from a BertForPreTraining model).\n",
      "- This IS NOT expected if you are initializing TFBertModel from the checkpoint of a model that you expect to be exactly identical (initializing a BertForSequenceClassification model from a BertForSequenceClassification model).\n",
      "All the layers of TFBertModel were initialized from the model checkpoint at bert-base-uncased.\n",
      "If your task is similar to the task the model of the checkpoint was trained on, you can already use TFBertModel for predictions without further training.\n"
     ]
    }
   ],
   "source": [
    "bert_model = bk.Bert(bert_name=\"bert-base-uncased\", max_length=512)"
   ]
  },
  {
   "cell_type": "code",
   "execution_count": 6,
   "id": "wound-transcription",
   "metadata": {},
   "outputs": [
    {
     "name": "stdout",
     "output_type": "stream",
     "text": [
      "(7, 512) (7, 512) (7, 512)\n"
     ]
    }
   ],
   "source": [
    "x = inputs[0]\n",
    "segs = inputs[2]\n",
    "mask = inputs[-1]\n",
    "print(x.shape, segs.shape, mask.shape)"
   ]
  },
  {
   "cell_type": "code",
   "execution_count": 6,
   "id": "human-flash",
   "metadata": {},
   "outputs": [],
   "source": [
    "top_vec = bert_model.model(inputs[0], token_type_ids=inputs[2], attention_mask=inputs[-1])"
   ]
  },
  {
   "cell_type": "code",
   "execution_count": 7,
   "id": "beneficial-jones",
   "metadata": {},
   "outputs": [
    {
     "data": {
      "text/plain": [
       "transformers.modeling_tf_outputs.TFBaseModelOutputWithPooling"
      ]
     },
     "execution_count": 7,
     "metadata": {},
     "output_type": "execute_result"
    }
   ],
   "source": [
    "type(top_vec)"
   ]
  },
  {
   "cell_type": "code",
   "execution_count": 8,
   "id": "empirical-authentication",
   "metadata": {},
   "outputs": [
    {
     "data": {
      "text/plain": [
       "tensorflow.python.framework.ops.EagerTensor"
      ]
     },
     "execution_count": 8,
     "metadata": {},
     "output_type": "execute_result"
    }
   ],
   "source": [
    "type(top_vec[0])"
   ]
  },
  {
   "cell_type": "code",
   "execution_count": 9,
   "id": "unknown-contents",
   "metadata": {},
   "outputs": [
    {
     "data": {
      "text/plain": [
       "<tf.Tensor: shape=(7, 512, 768), dtype=float32, numpy=\n",
       "array([[[-0.6228525 ,  0.47705775, -0.72852355, ..., -0.65170324,\n",
       "          0.9282633 ,  0.25004095],\n",
       "        [ 0.08786282, -0.04721766,  0.00968676, ...,  0.3908336 ,\n",
       "          1.349763  ,  0.14772786],\n",
       "        [ 0.29204395, -0.68668365, -0.70527875, ..., -0.1892346 ,\n",
       "          1.5639086 ,  0.02289766],\n",
       "        ...,\n",
       "        [-1.01998   ,  0.9434413 ,  0.5107963 , ..., -0.7512676 ,\n",
       "          0.6398389 , -0.9635697 ],\n",
       "        [ 1.1089482 ,  1.1765004 , -0.04959176, ..., -0.5808663 ,\n",
       "         -0.00567901, -0.33729383],\n",
       "        [ 0.21653308,  0.01650142,  0.19013762, ...,  0.44655794,\n",
       "         -0.42004862, -0.4375704 ]],\n",
       "\n",
       "       [[-1.0520877 ,  0.15514229, -0.5802913 , ..., -0.49859565,\n",
       "          0.8459695 ,  0.09799159],\n",
       "        [ 0.08785596, -0.26873925, -0.6590721 , ..., -0.27494165,\n",
       "          1.0898298 , -0.7622468 ],\n",
       "        [-0.78238606, -0.01504785, -1.0313606 , ..., -0.7440619 ,\n",
       "          0.749732  , -0.04465654],\n",
       "        ...,\n",
       "        [ 0.45883974, -0.54431045, -0.0472924 , ..., -0.15405563,\n",
       "         -0.2963185 , -0.5260845 ],\n",
       "        [ 0.5365809 , -0.05289222, -0.3920871 , ...,  0.09251669,\n",
       "         -0.48398   , -0.24052316],\n",
       "        [-0.79663986, -0.3757477 , -0.4045507 , ...,  0.24171889,\n",
       "         -0.36531895, -0.55812854]],\n",
       "\n",
       "       [[-0.56598264,  0.10482495, -0.47747236, ..., -0.62787247,\n",
       "          0.77740085, -0.14752877],\n",
       "        [-0.07282312, -0.21528497, -0.16654679, ...,  0.42965305,\n",
       "          1.3923362 ,  0.17764865],\n",
       "        [ 0.271648  , -0.81953156,  0.01848782, ...,  0.50831467,\n",
       "          1.1014035 ,  0.09292445],\n",
       "        ...,\n",
       "        [ 0.2523443 , -0.59605974,  0.5920547 , ..., -0.16162467,\n",
       "         -0.51587224, -0.6754341 ],\n",
       "        [-0.7513371 , -0.2514289 ,  0.3854311 , ...,  0.34185445,\n",
       "         -0.40484598, -0.41323978],\n",
       "        [ 0.7026835 ,  0.11037145, -0.19772732, ..., -0.06993936,\n",
       "         -0.5776018 , -0.35230723]],\n",
       "\n",
       "       ...,\n",
       "\n",
       "       [[-1.1056145 ,  0.07005396, -0.92483634, ..., -0.5893568 ,\n",
       "          0.64311624,  0.36671266],\n",
       "        [-0.29505634, -0.49105775, -0.27218226, ...,  0.64306545,\n",
       "          1.3134162 ,  0.34095702],\n",
       "        [-0.18763515, -0.9685011 , -0.33619034, ...,  0.7179064 ,\n",
       "          0.8188977 ,  0.47788668],\n",
       "        ...,\n",
       "        [ 0.20561762, -0.43207705, -0.4539635 , ...,  0.11569811,\n",
       "         -0.7413241 ,  0.22170141],\n",
       "        [-0.47121736, -0.19674046,  0.8132194 , ...,  0.87178206,\n",
       "          0.08715447, -0.49242717],\n",
       "        [-0.82300705, -0.06769196,  0.51948726, ..., -0.03756979,\n",
       "         -0.33587632,  0.11135078]],\n",
       "\n",
       "       [[-0.49261317,  0.07127901, -0.5962326 , ..., -0.64152354,\n",
       "          0.8623596 , -0.07947794],\n",
       "        [ 0.48079023, -0.23936272, -0.23066923, ..., -0.08141187,\n",
       "          0.39656767, -0.24270606],\n",
       "        [ 0.6188694 , -0.44305456,  0.30602655, ..., -0.4920605 ,\n",
       "         -0.10299995, -0.79392755],\n",
       "        ...,\n",
       "        [ 0.6415772 ,  1.194291  ,  0.8171145 , ..., -0.6599427 ,\n",
       "         -0.15038872, -1.4993786 ],\n",
       "        [ 0.6189175 ,  0.25145894,  0.63936424, ...,  0.09271212,\n",
       "          0.26068175, -0.7602234 ],\n",
       "        [-0.30670404,  0.27870363,  0.49932608, ..., -0.29571715,\n",
       "          0.26218048, -0.60501194]],\n",
       "\n",
       "       [[-0.85990185,  0.307537  , -0.6387549 , ..., -0.58070517,\n",
       "          0.56100976,  0.07296278],\n",
       "        [ 0.4904454 ,  0.15712702, -0.10489945, ..., -0.19339627,\n",
       "          0.38377088,  0.17392766],\n",
       "        [ 0.80416745,  0.01010909, -0.37029397, ..., -0.93771845,\n",
       "         -0.1494912 ,  0.05246121],\n",
       "        ...,\n",
       "        [ 0.01470299, -0.06701504,  0.55200696, ...,  0.18670842,\n",
       "          0.05869679, -0.26902795],\n",
       "        [ 0.07762845, -0.01498559,  0.6056577 , ...,  0.09963782,\n",
       "         -0.02000911, -0.36398953],\n",
       "        [ 0.1369536 , -0.12418287,  0.4087912 , ...,  0.18140379,\n",
       "          0.0111839 , -0.26363623]]], dtype=float32)>"
      ]
     },
     "execution_count": 9,
     "metadata": {},
     "output_type": "execute_result"
    }
   ],
   "source": [
    "top_vec[0]"
   ]
  },
  {
   "cell_type": "code",
   "execution_count": 11,
   "id": "abstract-pipeline",
   "metadata": {},
   "outputs": [],
   "source": [
    "import torch\n",
    "from pytorch_pretrained_bert import BertModel, BertConfig\n",
    "\n",
    "import torch.nn as nn\n",
    "class Bert(nn.Module):\n",
    "    def __init__(self, load_pretrained_bert):\n",
    "        super(Bert, self).__init__()\n",
    "        if(load_pretrained_bert):\n",
    "            self.model = BertModel.from_pretrained('bert-base-uncased')\n",
    "        else:\n",
    "            pass\n",
    "\n",
    "    def forward(self, x, segs, mask):\n",
    "        encoded_layers, _ = self.model(x, segs, attention_mask =mask)\n",
    "        top_vec = encoded_layers[-1]\n",
    "        return top_vec"
   ]
  },
  {
   "cell_type": "code",
   "execution_count": 12,
   "id": "northern-sphere",
   "metadata": {
    "scrolled": true
   },
   "outputs": [],
   "source": [
    "torch_bert = Bert(load_pretrained_bert=True)"
   ]
  },
  {
   "cell_type": "code",
   "execution_count": 13,
   "id": "municipal-archives",
   "metadata": {},
   "outputs": [
    {
     "name": "stdout",
     "output_type": "stream",
     "text": [
      "torch.Size([7, 512]) torch.Size([7, 512]) torch.Size([7, 512])\n"
     ]
    }
   ],
   "source": [
    "inputs_ids = torch.tensor(inputs[0])\n",
    "segs = torch.tensor(inputs[2])\n",
    "mask = torch.tensor(inputs[-1])\n",
    "print(inputs_ids.shape, segs.shape, mask.shape)"
   ]
  },
  {
   "cell_type": "code",
   "execution_count": null,
   "id": "formal-timothy",
   "metadata": {},
   "outputs": [],
   "source": [
    "encoded_layers, _ = torch_bert.model(inputs_ids, segs, attention_mask=mask)"
   ]
  },
  {
   "cell_type": "code",
   "execution_count": 30,
   "id": "suited-howard",
   "metadata": {},
   "outputs": [
    {
     "data": {
      "text/plain": [
       "list"
      ]
     },
     "execution_count": 30,
     "metadata": {},
     "output_type": "execute_result"
    }
   ],
   "source": [
    "type(encoded_layers)"
   ]
  },
  {
   "cell_type": "code",
   "execution_count": 31,
   "id": "deluxe-document",
   "metadata": {},
   "outputs": [
    {
     "data": {
      "text/plain": [
       "torch.Tensor"
      ]
     },
     "execution_count": 31,
     "metadata": {},
     "output_type": "execute_result"
    }
   ],
   "source": [
    "type(encoded_layers[0])"
   ]
  },
  {
   "cell_type": "code",
   "execution_count": 40,
   "id": "consistent-showcase",
   "metadata": {},
   "outputs": [
    {
     "data": {
      "text/plain": [
       "torch.Size([7, 512, 768])"
      ]
     },
     "execution_count": 40,
     "metadata": {},
     "output_type": "execute_result"
    }
   ],
   "source": [
    "encoded_layers[-1].shape"
   ]
  },
  {
   "cell_type": "code",
   "execution_count": 42,
   "id": "heard-practice",
   "metadata": {},
   "outputs": [
    {
     "data": {
      "text/plain": [
       "TensorShape([7, 512, 768])"
      ]
     },
     "execution_count": 42,
     "metadata": {},
     "output_type": "execute_result"
    }
   ],
   "source": [
    "top_vec[0].shape"
   ]
  },
  {
   "cell_type": "code",
   "execution_count": 43,
   "id": "flexible-tobago",
   "metadata": {},
   "outputs": [
    {
     "data": {
      "text/plain": [
       "tensor([[[-0.3854,  0.5001, -0.5426,  ..., -0.8447,  0.8990,  0.3143],\n",
       "         [-0.0523,  0.3153, -0.2423,  ...,  0.6283,  1.3094,  0.1210],\n",
       "         [ 0.2542, -0.8722, -0.6893,  ..., -0.0851,  1.2619, -0.1486],\n",
       "         ...,\n",
       "         [-1.1014,  0.8092,  0.5658,  ..., -0.8050,  0.6798, -0.9332],\n",
       "         [ 1.0245,  1.1942, -0.3408,  ..., -0.2273,  0.1260, -0.6028],\n",
       "         [ 0.2259,  0.3663, -0.3053,  ...,  0.2607, -0.3363, -0.5347]],\n",
       "\n",
       "        [[-0.4633,  0.1499, -0.6180,  ..., -0.4502,  0.9284, -0.0198],\n",
       "         [ 0.1534, -0.4577, -0.7635,  ..., -0.2426,  1.2170, -0.6065],\n",
       "         [-0.5922, -0.2721, -0.7822,  ..., -0.7947,  0.7395, -0.1093],\n",
       "         ...,\n",
       "         [ 0.7261, -0.5626, -0.0772,  ..., -0.2024, -0.4263, -0.5072],\n",
       "         [ 0.3820,  0.1813, -0.5868,  ...,  0.0969, -0.5504, -0.2844],\n",
       "         [-0.8082, -0.3379, -0.5275,  ...,  0.0494,  0.0983, -0.4806]],\n",
       "\n",
       "        [[-0.5030,  0.1813, -0.4087,  ...,  0.1253,  0.8911, -0.2616],\n",
       "         [ 0.0560,  0.0440, -0.2835,  ...,  0.2058,  1.3469,  0.2371],\n",
       "         [ 0.3248, -0.6754,  0.2511,  ...,  0.5011,  0.8053, -0.0932],\n",
       "         ...,\n",
       "         [ 0.1788, -0.4895,  0.6726,  ..., -0.0285, -0.3661, -0.4873],\n",
       "         [-0.7420, -0.2965,  0.4265,  ...,  0.1654, -0.3849, -0.6222],\n",
       "         [ 0.3648,  0.1740, -0.3516,  ...,  0.3520,  0.0020, -0.4760]],\n",
       "\n",
       "        ...,\n",
       "\n",
       "        [[-1.0817,  0.2349, -0.7490,  ..., -0.2775,  0.8225,  0.1172],\n",
       "         [ 0.0825,  0.2710, -0.0589,  ...,  0.4764,  1.2305,  0.1581],\n",
       "         [-0.1342, -1.0058, -0.4639,  ...,  0.7408,  1.1299,  0.8079],\n",
       "         ...,\n",
       "         [ 0.1576, -0.1147, -0.2794,  ...,  0.2937, -0.7002,  0.3221],\n",
       "         [-0.1054, -0.3084,  0.8947,  ...,  0.8099, -0.3061, -0.7046],\n",
       "         [-1.5148,  0.3018,  0.4709,  ..., -0.1266,  0.0680,  0.2070]],\n",
       "\n",
       "        [[-0.3531, -0.1383, -0.4398,  ..., -0.6893,  0.9877,  0.1149],\n",
       "         [ 0.3945, -0.1344, -0.2259,  ..., -0.0496, -0.0778, -0.3767],\n",
       "         [ 0.3005, -0.4738,  0.3154,  ..., -0.9089, -0.0420, -0.7183],\n",
       "         ...,\n",
       "         [ 0.2515,  0.7890,  0.9945,  ..., -0.3246, -0.1003, -1.1302],\n",
       "         [ 0.7366,  0.3459,  0.9563,  ..., -0.2413, -0.0563, -1.1015],\n",
       "         [-0.5556,  0.3261,  1.2110,  ..., -0.5307,  0.4723, -0.5185]],\n",
       "\n",
       "        [[-0.8982, -0.1992, -0.3833,  ..., -0.8145,  0.7859, -0.0766],\n",
       "         [ 0.4065, -0.0018,  0.1119,  ..., -0.3277,  0.4044,  0.4295],\n",
       "         [ 1.0721,  0.1240, -0.2668,  ..., -1.0487, -0.2475, -0.1164],\n",
       "         ...,\n",
       "         [ 0.2394, -0.0984,  0.6049,  ...,  0.2523,  0.0230, -0.1785],\n",
       "         [ 0.2566, -0.0982,  0.5803,  ...,  0.1099,  0.0315, -0.2369],\n",
       "         [ 0.0851, -0.1189,  0.4328,  ...,  0.0964,  0.0303, -0.2283]]],\n",
       "       grad_fn=<AddBackward0>)"
      ]
     },
     "execution_count": 43,
     "metadata": {},
     "output_type": "execute_result"
    }
   ],
   "source": [
    "encoded_layers[-1]"
   ]
  },
  {
   "cell_type": "code",
   "execution_count": 46,
   "id": "approximate-fireplace",
   "metadata": {},
   "outputs": [
    {
     "data": {
      "text/plain": [
       "<tf.Tensor: shape=(7, 512, 768), dtype=float32, numpy=\n",
       "array([[[-0.6228525 ,  0.47705775, -0.72852355, ..., -0.65170324,\n",
       "          0.9282633 ,  0.25004095],\n",
       "        [ 0.08786282, -0.04721766,  0.00968676, ...,  0.3908336 ,\n",
       "          1.349763  ,  0.14772786],\n",
       "        [ 0.29204395, -0.68668365, -0.70527875, ..., -0.1892346 ,\n",
       "          1.5639086 ,  0.02289766],\n",
       "        ...,\n",
       "        [-1.01998   ,  0.9434413 ,  0.5107963 , ..., -0.7512676 ,\n",
       "          0.6398389 , -0.9635697 ],\n",
       "        [ 1.1089482 ,  1.1765004 , -0.04959176, ..., -0.5808663 ,\n",
       "         -0.00567901, -0.33729383],\n",
       "        [ 0.21653308,  0.01650142,  0.19013762, ...,  0.44655794,\n",
       "         -0.42004862, -0.4375704 ]],\n",
       "\n",
       "       [[-1.0520877 ,  0.15514229, -0.5802913 , ..., -0.49859565,\n",
       "          0.8459695 ,  0.09799159],\n",
       "        [ 0.08785596, -0.26873925, -0.6590721 , ..., -0.27494165,\n",
       "          1.0898298 , -0.7622468 ],\n",
       "        [-0.78238606, -0.01504785, -1.0313606 , ..., -0.7440619 ,\n",
       "          0.749732  , -0.04465654],\n",
       "        ...,\n",
       "        [ 0.45883974, -0.54431045, -0.0472924 , ..., -0.15405563,\n",
       "         -0.2963185 , -0.5260845 ],\n",
       "        [ 0.5365809 , -0.05289222, -0.3920871 , ...,  0.09251669,\n",
       "         -0.48398   , -0.24052316],\n",
       "        [-0.79663986, -0.3757477 , -0.4045507 , ...,  0.24171889,\n",
       "         -0.36531895, -0.55812854]],\n",
       "\n",
       "       [[-0.56598264,  0.10482495, -0.47747236, ..., -0.62787247,\n",
       "          0.77740085, -0.14752877],\n",
       "        [-0.07282312, -0.21528497, -0.16654679, ...,  0.42965305,\n",
       "          1.3923362 ,  0.17764865],\n",
       "        [ 0.271648  , -0.81953156,  0.01848782, ...,  0.50831467,\n",
       "          1.1014035 ,  0.09292445],\n",
       "        ...,\n",
       "        [ 0.2523443 , -0.59605974,  0.5920547 , ..., -0.16162467,\n",
       "         -0.51587224, -0.6754341 ],\n",
       "        [-0.7513371 , -0.2514289 ,  0.3854311 , ...,  0.34185445,\n",
       "         -0.40484598, -0.41323978],\n",
       "        [ 0.7026835 ,  0.11037145, -0.19772732, ..., -0.06993936,\n",
       "         -0.5776018 , -0.35230723]],\n",
       "\n",
       "       ...,\n",
       "\n",
       "       [[-1.1056145 ,  0.07005396, -0.92483634, ..., -0.5893568 ,\n",
       "          0.64311624,  0.36671266],\n",
       "        [-0.29505634, -0.49105775, -0.27218226, ...,  0.64306545,\n",
       "          1.3134162 ,  0.34095702],\n",
       "        [-0.18763515, -0.9685011 , -0.33619034, ...,  0.7179064 ,\n",
       "          0.8188977 ,  0.47788668],\n",
       "        ...,\n",
       "        [ 0.20561762, -0.43207705, -0.4539635 , ...,  0.11569811,\n",
       "         -0.7413241 ,  0.22170141],\n",
       "        [-0.47121736, -0.19674046,  0.8132194 , ...,  0.87178206,\n",
       "          0.08715447, -0.49242717],\n",
       "        [-0.82300705, -0.06769196,  0.51948726, ..., -0.03756979,\n",
       "         -0.33587632,  0.11135078]],\n",
       "\n",
       "       [[-0.49261317,  0.07127901, -0.5962326 , ..., -0.64152354,\n",
       "          0.8623596 , -0.07947794],\n",
       "        [ 0.48079023, -0.23936272, -0.23066923, ..., -0.08141187,\n",
       "          0.39656767, -0.24270606],\n",
       "        [ 0.6188694 , -0.44305456,  0.30602655, ..., -0.4920605 ,\n",
       "         -0.10299995, -0.79392755],\n",
       "        ...,\n",
       "        [ 0.6415772 ,  1.194291  ,  0.8171145 , ..., -0.6599427 ,\n",
       "         -0.15038872, -1.4993786 ],\n",
       "        [ 0.6189175 ,  0.25145894,  0.63936424, ...,  0.09271212,\n",
       "          0.26068175, -0.7602234 ],\n",
       "        [-0.30670404,  0.27870363,  0.49932608, ..., -0.29571715,\n",
       "          0.26218048, -0.60501194]],\n",
       "\n",
       "       [[-0.85990185,  0.307537  , -0.6387549 , ..., -0.58070517,\n",
       "          0.56100976,  0.07296278],\n",
       "        [ 0.4904454 ,  0.15712702, -0.10489945, ..., -0.19339627,\n",
       "          0.38377088,  0.17392766],\n",
       "        [ 0.80416745,  0.01010909, -0.37029397, ..., -0.93771845,\n",
       "         -0.1494912 ,  0.05246121],\n",
       "        ...,\n",
       "        [ 0.01470299, -0.06701504,  0.55200696, ...,  0.18670842,\n",
       "          0.05869679, -0.26902795],\n",
       "        [ 0.07762845, -0.01498559,  0.6056577 , ...,  0.09963782,\n",
       "         -0.02000911, -0.36398953],\n",
       "        [ 0.1369536 , -0.12418287,  0.4087912 , ...,  0.18140379,\n",
       "          0.0111839 , -0.26363623]]], dtype=float32)>"
      ]
     },
     "execution_count": 46,
     "metadata": {},
     "output_type": "execute_result"
    }
   ],
   "source": [
    "top_vec[0]"
   ]
  },
  {
   "cell_type": "code",
   "execution_count": null,
   "id": "median-indianapolis",
   "metadata": {},
   "outputs": [],
   "source": []
  }
 ],
 "metadata": {
  "kernelspec": {
   "display_name": "Python 3",
   "language": "python",
   "name": "python3"
  },
  "language_info": {
   "codemirror_mode": {
    "name": "ipython",
    "version": 3
   },
   "file_extension": ".py",
   "mimetype": "text/x-python",
   "name": "python",
   "nbconvert_exporter": "python",
   "pygments_lexer": "ipython3",
   "version": "3.8.5"
  }
 },
 "nbformat": 4,
 "nbformat_minor": 5
}
